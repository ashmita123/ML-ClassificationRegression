{
 "cells": [
  {
   "cell_type": "code",
   "execution_count": 1,
   "metadata": {},
   "outputs": [],
   "source": [
    "import numpy as np\n",
    "import pandas as pd\n",
    "import matplotlib.pyplot as plt\n",
    "import pickle\n"
   ]
  },
  {
   "cell_type": "code",
   "execution_count": 2,
   "metadata": {},
   "outputs": [],
   "source": [
    "\n",
    "# Load the dataset\n",
    "penguins_data = pd.read_csv(\"penguins.csv\")"
   ]
  },
  {
   "cell_type": "code",
   "execution_count": 3,
   "metadata": {},
   "outputs": [],
   "source": [
    "# Handle the uppercase 'MALE' and 'FEMALE' in the target variable\n",
    "penguins_data['gender'] = penguins_data['gender'].str.lower()"
   ]
  },
  {
   "cell_type": "code",
   "execution_count": 4,
   "metadata": {},
   "outputs": [],
   "source": [
    "# Handling NaN values and converting columns to numeric\n",
    "for col in penguins_data.columns:\n",
    "    if penguins_data[col].dtype in [np.float64, np.int64]:\n",
    "        penguins_data[col].fillna(penguins_data[col].mean(), inplace=True)\n",
    "    else:\n",
    "        penguins_data[col].fillna(penguins_data[col].mode()[0], inplace=True)\n"
   ]
  },
  {
   "cell_type": "code",
   "execution_count": 5,
   "metadata": {},
   "outputs": [],
   "source": [
    "# Convert non-numeric columns to numeric format using one-hot encoding\n",
    "penguins_data = pd.get_dummies(penguins_data, columns=['species', 'island'], drop_first=True)\n"
   ]
  },
  {
   "cell_type": "code",
   "execution_count": 6,
   "metadata": {},
   "outputs": [],
   "source": [
    "# Feature scaling function\n",
    "def standardize_features(X):\n",
    "    mean = np.mean(X, axis=0)\n",
    "    std = np.std(X, axis=0)\n",
    "    std[std == 0] = 1  # Handle zero standard deviation\n",
    "    return (X - mean) / std\n"
   ]
  },
  {
   "cell_type": "code",
   "execution_count": 7,
   "metadata": {},
   "outputs": [],
   "source": [
    "# Create Y and X matrices\n",
    "Y = penguins_data['gender'].apply(lambda x: 1 if x == 'male' else 0).values\n",
    "X = penguins_data.drop(columns='gender').values\n"
   ]
  },
  {
   "cell_type": "code",
   "execution_count": 8,
   "metadata": {},
   "outputs": [
    {
     "name": "stdout",
     "output_type": "stream",
     "text": [
      "X_train shape: (275, 21)\n",
      "y_train shape: (275,)\n",
      "X_test shape: (69, 21)\n",
      "y_test shape: (69,)\n"
     ]
    }
   ],
   "source": [
    "# Splitting dataset into training and test sets\n",
    "np.random.seed(0)\n",
    "indices = np.random.permutation(X.shape[0])\n",
    "train_size = int(0.8 * X.shape[0])\n",
    "\n",
    "X_train = X[indices[:train_size]].astype(float)\n",
    "y_train = Y[indices[:train_size]]\n",
    "\n",
    "X_test = X[indices[train_size:]].astype(float)\n",
    "y_test = Y[indices[train_size:]]\n",
    "print(\"X_train shape:\", X_train.shape)\n",
    "print(\"y_train shape:\", y_train.shape)\n",
    "print(\"X_test shape:\", X_test.shape)\n",
    "print(\"y_test shape:\", y_test.shape)\n"
   ]
  },
  {
   "cell_type": "code",
   "execution_count": 9,
   "metadata": {},
   "outputs": [],
   "source": [
    "# Feature scaling\n",
    "X_train_std = standardize_features(X_train)\n",
    "X_test_std = standardize_features(X_test)\n"
   ]
  },
  {
   "cell_type": "code",
   "execution_count": 10,
   "metadata": {},
   "outputs": [],
   "source": [
    "# Logistic regression model definition and training\n",
    "class LogitRegression:\n",
    "    def __init__(self, learning_rate, iterations, lambda_reg=0.01):\n",
    "        self.learning_rate = learning_rate\n",
    "        self.iterations = iterations\n",
    "        self.lambda_reg = lambda_reg\n",
    "        self.loss = []\n",
    "\n",
    "    def sigmoid(self, z):\n",
    "        return np.where(z >= 0, \n",
    "                        1 / (1 + np.exp(-z)), \n",
    "                        np.exp(z) / (1 + np.exp(z)))\n",
    "\n",
    "    def cost(self, h, y):\n",
    "        h = np.clip(h, 1e-10, 1 - 1e-10)\n",
    "        reg = (self.lambda_reg / (2 * len(y))) * np.sum(self.w**2)\n",
    "        return (-y * np.log(h) - (1 - y) * np.log(1 - h)).mean() + reg\n",
    "\n",
    "    def gradient_descent(self, X, y):\n",
    "        m = len(y)\n",
    "        h = self.sigmoid(np.dot(X, self.w))\n",
    "        gradient = np.dot(X.T, (h - y)) / m\n",
    "        gradient += (self.lambda_reg / m) * self.w\n",
    "        self.w -= self.learning_rate * gradient\n",
    "\n",
    "    def fit(self, X, y):\n",
    "        self.w = np.random.uniform(0, 1, X.shape[1])\n",
    "        for i in range(self.iterations):\n",
    "            h = self.sigmoid(np.dot(X, self.w))\n",
    "            self.loss.append(self.cost(h, y))\n",
    "            self.gradient_descent(X, y)\n",
    "\n",
    "    def predict(self, X):\n",
    "        return [1 if i >= 0.5 else 0 for i in self.sigmoid(np.dot(X, self.w))]\n"
   ]
  },
  {
   "cell_type": "code",
   "execution_count": 11,
   "metadata": {},
   "outputs": [
    {
     "name": "stdout",
     "output_type": "stream",
     "text": [
      "Best Accuracy: 0.8260869565217391\n"
     ]
    }
   ],
   "source": [
    "# Hyperparameters\n",
    "learning_rates = [1e-2, 1e-3, 5e-4]\n",
    "lambda_regs = [0.01, 0.05, 0.1]\n",
    "best_accuracy = 0\n",
    "\n",
    "for lr in learning_rates:\n",
    "    for reg in lambda_regs:\n",
    "        model = LogitRegression(lr, 100000, reg)\n",
    "        model.fit(X_train_std, y_train)\n",
    "        y_pred = model.predict(X_test_std)\n",
    "        accuracy = np.mean(y_pred == y_test)\n",
    "\n",
    "        if accuracy > best_accuracy:\n",
    "            best_accuracy = accuracy\n",
    "            best_model = model\n",
    "\n",
    "print(\"Best Accuracy:\", best_accuracy)\n"
   ]
  },
  {
   "cell_type": "code",
   "execution_count": 77,
   "metadata": {},
   "outputs": [
    {
     "data": {
      "image/png": "[encoded data removed]",
      "text/plain": [
       "<Figure size 640x480 with 1 Axes>"
      ]
     },
     "metadata": {},
     "output_type": "display_data"
    }
   ],
   "source": [
    "# Plotting the loss graph\n",
    "plt.plot(best_model.loss)\n",
    "plt.xlabel('Iterations')\n",
    "plt.ylabel('Loss')\n",
    "plt.title('Loss over Iterations')\n",
    "plt.show()"
   ]
  },
  {
   "cell_type": "code",
   "execution_count": null,
   "metadata": {},
   "outputs": [],
   "source": [
    "# Saving the best model weights\n",
    "with open(\"best_weights.pkl\", \"wb\") as f:\n",
    "    pickle.dump(best_model.w, f)"
   ]
  }
 ],
 "metadata": {
  "kernelspec": {
   "display_name": "Python 3",
   "language": "python",
   "name": "python3"
  },
  "language_info": {
   "codemirror_mode": {
    "name": "ipython",
    "version": 3
   },
   "file_extension": ".py",
   "mimetype": "text/x-python",
   "name": "python",
   "nbconvert_exporter": "python",
   "pygments_lexer": "ipython3",
   "version": "3.9.6"
  },
  "orig_nbformat": 4
 },
 "nbformat": 4,
 "nbformat_minor": 2
}
