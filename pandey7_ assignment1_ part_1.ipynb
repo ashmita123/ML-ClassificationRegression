{
 "cells": [
  {
   "cell_type": "markdown",
   "id": "2050225d",
   "metadata": {},
   "source": [
    "# Data Analysis & Preprocessing"
   ]
  },
  {
   "cell_type": "code",
   "execution_count": 13,
   "id": "35a35320",
   "metadata": {},
   "outputs": [],
   "source": [
    "import pandas as pd\n",
    "import numpy as np\n",
    "import matplotlib.pyplot as plt\n",
    "import seaborn as sns\n"
   ]
  },
  {
   "cell_type": "markdown",
   "id": "1f68afc9",
   "metadata": {},
   "source": [
    "## Load and Describe Data"
   ]
  },
  {
   "cell_type": "code",
   "execution_count": 3,
   "id": "1b4aabaf",
   "metadata": {},
   "outputs": [],
   "source": [
    "\n",
    "def load_and_describe_data(file_name):\n",
    "    data = pd.read_csv(file_name)\n",
    "    print(data.describe())\n",
    "    return data\n"
   ]
  },
  {
   "cell_type": "markdown",
   "id": "6370cf40",
   "metadata": {},
   "source": [
    "## Handle Missing Data"
   ]
  },
  {
   "cell_type": "code",
   "execution_count": 14,
   "id": "5322d631",
   "metadata": {},
   "outputs": [],
   "source": [
    "\n",
    "def handle_missing_data(data):\n",
    "    for col in data.columns:\n",
    "        if data[col].dtype in [np.float64, np.int64]:\n",
    "            data[col].fillna(data[col].mean(), inplace=True)\n",
    "        else:\n",
    "            data[col].fillna(data[col].mode()[0], inplace=True)\n",
    "    return data\n",
    "\n"
   ]
  },
  {
   "cell_type": "markdown",
   "id": "b6f1d08e",
   "metadata": {},
   "source": [
    "## Standardize Strings"
   ]
  },
  {
   "cell_type": "code",
   "execution_count": 15,
   "id": "3a04e9cb",
   "metadata": {},
   "outputs": [],
   "source": [
    "def standardize_strings(data):\n",
    "    if 'species' in data.columns:\n",
    "        data['species'] = data['species'].str.capitalize()\n",
    "    return data\n",
    "\n"
   ]
  },
  {
   "cell_type": "markdown",
   "id": "2dadd753",
   "metadata": {},
   "source": [
    "## Handle Outliers"
   ]
  },
  {
   "cell_type": "code",
   "execution_count": 6,
   "id": "01f2a1e1",
   "metadata": {},
   "outputs": [],
   "source": [
    "def handle_outliers(data):\n",
    "    numeric_cols = data.select_dtypes(include=[np.float64, np.int64]).columns\n",
    "    Q1 = data[numeric_cols].quantile(0.25)\n",
    "    Q3 = data[numeric_cols].quantile(0.75)\n",
    "    IQR = Q3 - Q1\n",
    "    data = data[~((data[numeric_cols] < (Q1 - 1.5 * IQR)) | (data[numeric_cols] > (Q3 + 1.5 * IQR))).any(axis=1)]\n",
    "    return data\n",
    "\n"
   ]
  },
  {
   "cell_type": "markdown",
   "id": "0b4f3ff2",
   "metadata": {},
   "source": [
    "## Data Visualization"
   ]
  },
  {
   "cell_type": "code",
   "execution_count": 16,
   "id": "7d7953a9",
   "metadata": {},
   "outputs": [],
   "source": [
    "def visualize_data(data, dataset_name):\n",
    "    # 1. Pairplot for numeric features only\n",
    "    numeric_data = data.select_dtypes(include=[np.float64, np.int64])\n",
    "    sns.pairplot(numeric_data)\n",
    "    plt.savefig(f\"{dataset_name}_pairplot.png\")\n",
    "    plt.close()\n",
    "\n",
    "    # 2. Correlation matrix heatmap\n",
    "    correlation_matrix = numeric_data.corr()\n",
    "    plt.figure(figsize=(10, 8))\n",
    "    sns.heatmap(correlation_matrix, annot=True)\n",
    "    plt.savefig(f\"{dataset_name}_correlation_matrix.png\")\n",
    "    plt.close()\n",
    "\n",
    "    # 3. Boxplots for numeric features\n",
    "    for col in numeric_data.columns:\n",
    "        plt.figure(figsize=(6, 4))\n",
    "        sns.boxplot(data[col])\n",
    "        plt.title(f\"Boxplot of {col}\")\n",
    "        plt.savefig(f\"{dataset_name}_{col}_boxplot.png\")\n",
    "        plt.close()\n",
    "\n",
    "    # 4. Count plots for primary categorical feature\n",
    "    categorical_data = data.select_dtypes(exclude=[np.float64, np.int64])\n",
    "    if not categorical_data.empty:\n",
    "        primary_categorical = categorical_data.columns[0]\n",
    "        plt.figure(figsize=(6, 4))\n",
    "        sns.countplot(x=primary_categorical, data=data)\n",
    "        plt.title(f\"Count plot of {primary_categorical}\")\n",
    "        plt.savefig(f\"{dataset_name}_{primary_categorical}_countplot.png\")\n",
    "        plt.close()\n",
    "    \n",
    "    # 5. Distribution plots for two major numeric features (if available)\n",
    "    for col in numeric_data.columns[:2]:\n",
    "        plt.figure(figsize=(6, 4))\n",
    "        sns.histplot(data[col], kde=True)\n",
    "        plt.title(f\"Distribution of {col}\")\n",
    "        plt.savefig(f\"{dataset_name}_{col}_distribution.png\")\n",
    "        plt.close()\n",
    "        \n",
    "    # 6. Bar plot for a categorical vs numeric feature (if available)\n",
    "    if not categorical_data.empty and not numeric_data.empty:\n",
    "        plt.figure(figsize=(8, 6))\n",
    "        sns.barplot(x=categorical_data.columns[0], y=numeric_data.columns[0], data=data)\n",
    "        plt.title(f\"{categorical_data.columns[0]} vs. {numeric_data.columns[0]}\")\n",
    "        plt.savefig(f\"{dataset_name}_barplot.png\")\n",
    "        plt.close()\n",
    "    \n",
    "\n"
   ]
  },
  {
   "cell_type": "markdown",
   "id": "dbf6790f",
   "metadata": {},
   "source": [
    "## Handle Uncorrelated Features"
   ]
  },
  {
   "cell_type": "code",
   "execution_count": 17,
   "id": "3af3785e",
   "metadata": {},
   "outputs": [],
   "source": [
    "def drop_uncorrelated_features(data, threshold=0.1):\n",
    "    # Extract only numeric columns for correlation calculation\n",
    "    numeric_data = data.select_dtypes(include=[np.float64, np.int64])\n",
    "    correlation_matrix = numeric_data.corr()\n",
    "\n",
    "    # Identify columns with low correlation\n",
    "    cols_to_drop = []\n",
    "    for column in correlation_matrix.columns:\n",
    "        if all(correlation_matrix[column].between(-threshold, threshold)):\n",
    "            cols_to_drop.append(column)\n",
    "\n",
    "    # Drop identified columns from the original data\n",
    "    data = data.drop(columns=cols_to_drop)\n",
    "    \n",
    "    print(f\"Dropped columns: {cols_to_drop}\")\n",
    "    return data\n"
   ]
  },
  {
   "cell_type": "markdown",
   "id": "847bb5b3",
   "metadata": {},
   "source": [
    "## Convert to Categorical"
   ]
  },
  {
   "cell_type": "code",
   "execution_count": 18,
   "id": "08c5db84",
   "metadata": {},
   "outputs": [],
   "source": [
    "\n",
    "def convert_to_categorical(data):\n",
    "    data = pd.get_dummies(data, drop_first=True)\n",
    "    return data\n",
    "\n"
   ]
  },
  {
   "cell_type": "markdown",
   "id": "7cf693e1",
   "metadata": {},
   "source": [
    "## Normalize Data"
   ]
  },
  {
   "cell_type": "code",
   "execution_count": 19,
   "id": "66601da6",
   "metadata": {},
   "outputs": [],
   "source": [
    "\n",
    "def normalize_data(data):\n",
    "    for col in data.columns:\n",
    "        if data[col].dtype in [np.float64, np.int64]:\n",
    "            min_val = data[col].min()\n",
    "            max_val = data[col].max()\n",
    "            data[col] = (data[col] - min_val) / (max_val - min_val)\n",
    "    return data\n",
    "\n"
   ]
  },
  {
   "cell_type": "markdown",
   "id": "02f49180",
   "metadata": {},
   "source": [
    "## Main Execution"
   ]
  },
  {
   "cell_type": "code",
   "execution_count": 20,
   "id": "13311b5e",
   "metadata": {},
   "outputs": [
    {
     "name": "stdout",
     "output_type": "stream",
     "text": [
      "Processing penguins.csv...\n",
      "\n",
      "       calorie requirement  average sleep duration  bill_length_mm  \\\n",
      "count           344.000000              344.000000      337.000000   \n",
      "mean           5270.002907               10.447674       45.494214   \n",
      "std            1067.959116                2.265895       10.815787   \n",
      "min            3504.000000                7.000000       32.100000   \n",
      "25%            4403.000000                9.000000       39.500000   \n",
      "50%            5106.500000               10.000000       45.100000   \n",
      "75%            6212.750000               12.000000       49.000000   \n",
      "max            7197.000000               14.000000      124.300000   \n",
      "\n",
      "       bill_depth_mm  flipper_length_mm  body_mass_g         year  \n",
      "count     333.000000         336.000000   339.000000   342.000000  \n",
      "mean       18.018318         197.764881  4175.463127  2008.035088  \n",
      "std         9.241384          27.764491   858.713267     0.816938  \n",
      "min        13.100000          10.000000   882.000000  2007.000000  \n",
      "25%        15.700000         190.000000  3550.000000  2007.000000  \n",
      "50%        17.300000         197.000000  4050.000000  2008.000000  \n",
      "75%        18.700000         213.000000  4750.000000  2009.000000  \n",
      "max       127.260000         231.000000  6300.000000  2009.000000  \n"
     ]
    },
    {
     "name": "stderr",
     "output_type": "stream",
     "text": [
      "/Users/ashmitapandey/Library/Python/3.9/lib/python/site-packages/seaborn/axisgrid.py:123: UserWarning: The figure layout has changed to tight\n",
      "  self._figure.tight_layout(*args, **kwargs)\n"
     ]
    },
    {
     "name": "stdout",
     "output_type": "stream",
     "text": [
      "Dropped columns: []\n",
      "\n",
      "Processing diamond.csv...\n",
      "\n",
      "       average us salary  number of diamonds mined (millions)\n",
      "count       53940.000000                         53940.000000\n",
      "mean        39521.990100                             2.902669\n",
      "std          5486.892971                             1.325985\n",
      "min         30000.000000                             0.600000\n",
      "25%         34780.000000                             1.750000\n",
      "50%         39547.500000                             2.910000\n",
      "75%         44252.000000                             4.050000\n",
      "max         48999.000000                             5.200000\n"
     ]
    },
    {
     "name": "stderr",
     "output_type": "stream",
     "text": [
      "/Users/ashmitapandey/Library/Python/3.9/lib/python/site-packages/seaborn/axisgrid.py:123: UserWarning: The figure layout has changed to tight\n",
      "  self._figure.tight_layout(*args, **kwargs)\n"
     ]
    },
    {
     "name": "stdout",
     "output_type": "stream",
     "text": [
      "Dropped columns: []\n"
     ]
    }
   ],
   "source": [
    "def process_penguins_data():\n",
    "    print(\"Processing penguins.csv...\\n\")\n",
    "    penguins_data = load_and_describe_data('penguins.csv')\n",
    "    penguins_data = handle_missing_data(penguins_data)\n",
    "    penguins_data = standardize_strings(penguins_data)\n",
    "    penguins_data = handle_outliers(penguins_data)\n",
    "    visualize_data(penguins_data, \"penguins\")\n",
    "    penguins_data = drop_uncorrelated_features(penguins_data)\n",
    "    penguins_data = normalize_data(penguins_data)\n",
    "    return penguins_data\n",
    "\n",
    "def process_diamond_data():\n",
    "    global diamond_data  # <-- Add this line to make diamond_data a global variable\n",
    "    print(\"\\nProcessing diamond.csv...\\n\")\n",
    "    diamond_data = load_and_describe_data('diamond.csv')\n",
    "    diamond_data = handle_missing_data(diamond_data)\n",
    "    diamond_data = handle_outliers(diamond_data)\n",
    "    visualize_data(diamond_data, \"diamond\")\n",
    "    diamond_data = drop_uncorrelated_features(diamond_data)\n",
    "    diamond_data = normalize_data(diamond_data)\n",
    "    return diamond_data\n",
    "\n",
    "\n",
    "def main():\n",
    "    penguins_data = process_penguins_data()\n",
    "    diamond_data = process_diamond_data()\n",
    "\n",
    "if __name__ == \"__main__\":\n",
    "    main()\n"
   ]
  }
 ],
 "metadata": {
  "kernelspec": {
   "display_name": "Python 3",
   "language": "python",
   "name": "python3"
  },
  "language_info": {
   "codemirror_mode": {
    "name": "ipython",
    "version": 3
   },
   "file_extension": ".py",
   "mimetype": "text/x-python",
   "name": "python",
   "nbconvert_exporter": "python",
   "pygments_lexer": "ipython3",
   "version": "3.9.6"
  }
 },
 "nbformat": 4,
 "nbformat_minor": 5
}
